{
 "cells": [
  {
   "cell_type": "markdown",
   "metadata": {},
   "source": [
    "## Named Entity Recognition Using NLTK"
   ]
  },
  {
   "cell_type": "markdown",
   "metadata": {},
   "source": [
    "Installing Dependencies :\n",
    "\n",
    "    Install NLTK Library"
   ]
  },
  {
   "cell_type": "code",
   "execution_count": null,
   "metadata": {},
   "outputs": [],
   "source": [
    "pip install nltk"
   ]
  },
  {
   "cell_type": "code",
   "execution_count": null,
   "metadata": {},
   "outputs": [],
   "source": [
    "# Import nltk library\n",
    "import nltk\n",
    "from nltk.tree import Tree\n",
    "\n",
    "# Download the required packages\n",
    "nltk.download('punkt')\n",
    "nltk.download('averaged_perceptron_tagger')\n",
    "nltk.download('maxent_ne_chunker')\n",
    "nltk.download('words')\n",
    "nltk.download('stopwords')"
   ]
  },
  {
   "cell_type": "markdown",
   "metadata": {},
   "source": [
    "### Extract the named entities from text using NLTK\n",
    "    \n",
    "Below are few examples for getting NER using NLTK\n",
    "\n",
    "* India won the 2011 ICC Cricket World Cup by defeating Sri Lanka in the final at Mumbai.\n",
    "* Virat kohli is one of the best cricketers of India.\n",
    "* Sachin Tendulkar is widely regarded as the greatest Indian batsman of all time.."
   ]
  },
  {
   "cell_type": "code",
   "execution_count": null,
   "metadata": {},
   "outputs": [],
   "source": [
    "# Define the sentence\n",
    "sentence = \"Virat kohli is one of the best cricketer of India.\"\n",
    "#\"Narendra Modi is the prime minister of India.\"\n",
    "#\"Barack Obama was born in Hawaii.\"\n",
    "\n",
    "# Step 1: Tokenize the sentence into words\n",
    "words = nltk.word_tokenize(sentence)\n",
    "\n",
    "# Step 2: Tag the words with their part-of-speech\n",
    "tags = nltk.pos_tag(words)\n",
    "\n",
    "# Step 3: Named Entity Recognition using NLTK's ne_chunk\n",
    "chunks = nltk.ne_chunk(tags)\n",
    "\n",
    "# Print the chunks\n",
    "print(f\"Named Entities:\\n\")\n",
    "print(chunks)\n"
   ]
  },
  {
   "cell_type": "markdown",
   "metadata": {},
   "source": [
    "### Filtering the named entities"
   ]
  },
  {
   "cell_type": "code",
   "execution_count": null,
   "metadata": {},
   "outputs": [],
   "source": [
    "# Step 4: Convert NLTK's tree format to IOB (Inside-Outside-Beginning) tagged format\n",
    "iob_tags = nltk.tree2conlltags(chunks)\n",
    "\n",
    "# Step 5: Filter out non-entities and stopwords\n",
    "filtered_tags = [(word, tag, ner) for word, tag, ner in iob_tags if ner != 'O' and word.lower() not in stopwords.words('english')]\n",
    "\n",
    "# Print the filtered named entities\n",
    "print(\"Filtered Named Entities: \\n\")\n",
    "for word, tag, ner in filtered_tags:\n",
    "    print(f\"Word: {word}, Tag: {tag}, NER: {ner}\")"
   ]
  },
  {
   "cell_type": "markdown",
   "metadata": {},
   "source": [
    "### Visualizing the result in tree format"
   ]
  },
  {
   "cell_type": "code",
   "execution_count": null,
   "metadata": {},
   "outputs": [],
   "source": [
    "# Step 6: Visualize the named entity tree\n",
    "\n",
    "tree = Tree.fromstring(str(chunks))\n",
    "tree.pretty_print()"
   ]
  }
 ],
 "metadata": {
  "kernelspec": {
   "display_name": "env",
   "language": "python",
   "name": "python3"
  },
  "language_info": {
   "codemirror_mode": {
    "name": "ipython",
    "version": 3
   },
   "file_extension": ".py",
   "mimetype": "text/x-python",
   "name": "python",
   "nbconvert_exporter": "python",
   "pygments_lexer": "ipython3",
   "version": "3.10.11"
  },
  "orig_nbformat": 4
 },
 "nbformat": 4,
 "nbformat_minor": 2
}
