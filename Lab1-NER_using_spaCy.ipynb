{
 "cells": [
  {
   "cell_type": "markdown",
   "metadata": {},
   "source": [
    "## Named Entity Recognition using SpaCy : A popular NLP library"
   ]
  },
  {
   "cell_type": "markdown",
   "metadata": {},
   "source": [
    "### Installing Dependencies :\n",
    "\n",
    "* Install Python spaCy Library"
   ]
  },
  {
   "cell_type": "code",
   "execution_count": null,
   "metadata": {},
   "outputs": [],
   "source": [
    "! pip install spacy"
   ]
  },
  {
   "cell_type": "markdown",
   "metadata": {},
   "source": [
    "*  Install SpaCy English Language Model"
   ]
  },
  {
   "cell_type": "code",
   "execution_count": null,
   "metadata": {},
   "outputs": [],
   "source": [
    "! python -m spacy download en_core_web_md"
   ]
  },
  {
   "cell_type": "markdown",
   "metadata": {},
   "source": [
    "### Let's check if spaCy is working using the 'en_core_web_md' model to get Named Entity Recognition (NER) for single sentence\n",
    "\n",
    "Below are few examples for getting NER using spaCy\n",
    "\n",
    "* The Ashes series between England and Australia is a historic cricket rivalry.\n",
    "* Sachin Tendulkar is widely regarded as the greatest Indian batsman of all time.\n",
    "* The Chennai Super Kings have a loyal fan base known as the 'Yellow Army'.\n",
    "* Virat Kohli is one of the best cricketer india has found."
   ]
  },
  {
   "cell_type": "code",
   "execution_count": null,
   "metadata": {},
   "outputs": [],
   "source": [
    "# Import the spacy library\n",
    "import spacy\n",
    "from spacy import displacy\n",
    "\n",
    "# Load the pre-trained Spacy model for English Language\n",
    "nlp = spacy.load(\"en_core_web_md\")  "
   ]
  },
  {
   "cell_type": "code",
   "execution_count": null,
   "metadata": {},
   "outputs": [],
   "source": [
    "# Example input text\n",
    "text = \"Virat Kohli is one of the best cricketer india has found.\"\n",
    "\n",
    "# Process the input text with the Spacy model\n",
    "doc = nlp(text)\n",
    "\n",
    "# Print out any named entities found in the input text\n",
    "for ent in doc.ents:\n",
    "    print(ent.text, ent.label_)\n",
    "\n",
    "displacy.render(doc, style=\"ent\", jupyter=True)"
   ]
  },
  {
   "cell_type": "markdown",
   "metadata": {},
   "source": [
    "### Run Named Entity Recognition (NER) on a list of sentences using SpaCy.\n",
    "\n",
    "* Use 'displayc' to enhance the visualization of NER results"
   ]
  },
  {
   "cell_type": "code",
   "execution_count": null,
   "metadata": {},
   "outputs": [],
   "source": [
    "# Example list of inputs\n",
    "texts = [ \n",
    "        \"The Ashes series between England and Australia is a historic cricket rivalry.\",\n",
    "        \"Sachin Tendulkar is widely regarded as the greatest Indian batsman of all time.\",\n",
    "        \"The Chennai Super Kings have a loyal fan base known as the 'Yellow Army'.\",\n",
    "        \"Virat Kohli is one of the best cricketer india has found.\"\n",
    "        ]\n",
    "\n",
    "# Process each input text with the Spacy model\n",
    "for text in texts:\n",
    "    doc = nlp(text)\n",
    "\n",
    "    entities = [entity for entity in doc.ents]\n",
    "\n",
    "    # Print out any remaining named entities found in the input text\n",
    "    for ent in entities:\n",
    "        print(ent.text, ent.label_)\n",
    "        \n",
    "    displacy.render(doc, style=\"ent\", jupyter=True)"
   ]
  }
 ],
 "metadata": {
  "kernelspec": {
   "display_name": "env",
   "language": "python",
   "name": "python3"
  },
  "language_info": {
   "codemirror_mode": {
    "name": "ipython",
    "version": 3
   },
   "file_extension": ".py",
   "mimetype": "text/x-python",
   "name": "python",
   "nbconvert_exporter": "python",
   "pygments_lexer": "ipython3",
   "version": "3.11.0"
  },
  "orig_nbformat": 4
 },
 "nbformat": 4,
 "nbformat_minor": 2
}
