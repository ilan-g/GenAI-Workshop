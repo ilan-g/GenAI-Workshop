{
 "cells": [
  {
   "cell_type": "markdown",
   "metadata": {},
   "source": [
    "## Named Entity Recognition Using OpenAI API"
   ]
  },
  {
   "cell_type": "markdown",
   "metadata": {},
   "source": [
    "Installing Dependencies :\n",
    "\n",
    "    Install OpenAI Library"
   ]
  },
  {
   "cell_type": "code",
   "execution_count": null,
   "metadata": {},
   "outputs": [],
   "source": [
    "pip install openai python-dotenv"
   ]
  },
  {
   "cell_type": "markdown",
   "metadata": {},
   "source": [
    "* Extract the named entities from text using OpenAI API response"
   ]
  },
  {
   "cell_type": "code",
   "execution_count": null,
   "metadata": {},
   "outputs": [],
   "source": [
    "import os\n",
    "import openai\n",
    "from dotenv import load_dotenv\n",
    "\n",
    "# Load Environment Variables\n",
    "load_dotenv()\n",
    "\n",
    "# Get OpenAI API Key from Environment Variables\n",
    "OPENAI_API_KEY= os.environ[\"OPENAI_API_KEY\"] \n",
    "\n",
    "# Provide OpenAI API Key\n",
    "#OPENAI_API_KEY= \"<Your_OpenAI_API_Key>\"\n",
    "\n",
    "# Set OpenAI API Key\n",
    "openai.api_key = OPENAI_API_KEY\n",
    "\n",
    "# Example input text\n",
    "text = \"Virat kohli is one of the best cricketer india has found.\"\n",
    "\n",
    "# Create prompt for getting named entities from text\n",
    "# prompt = f\"\"\"Run named entity recognition (NER) on the following text delimited with ###.\n",
    "#             Identify named entites from text along with its type in this format [\\\"text\\\": , \\\"entity\\\": ]. \n",
    "#             ###{text}###\"\"\"\n",
    "            \n",
    "prompt = f\"\"\"Run named entity recognition (NER) on the following text delimited with ###.\n",
    "            Identify named entites from text along with its type in json format. \n",
    "            ###{text}###\"\"\"\n",
    "\n",
    "# Use the OpenAI API to perform named-entity recognition\n",
    "response = openai.Completion.create(\n",
    "    engine=\"text-davinci-002\",  # Engine to use for completion\n",
    "    prompt=prompt,              # Prompt to generate completion\n",
    "    temperature=0,              # Higher temperature results in more random completions\n",
    "    n=1,                        # Number of completions to generate\n",
    "    max_tokens=1024,            # 1024 is the maximum token limit    \n",
    ")\n",
    "\n",
    "# Print the response\n",
    "entities = response.choices[0]['text']\n",
    "print(entities)"
   ]
  },
  {
   "cell_type": "markdown",
   "metadata": {},
   "source": [
    "* Format Completion API output into taular format"
   ]
  },
  {
   "cell_type": "code",
   "execution_count": null,
   "metadata": {},
   "outputs": [],
   "source": [
    "import json\n",
    "\n",
    "# Convert the entities to a list of dictionaries\n",
    "data = json.loads(entities)\n",
    "\n",
    "# Calculate the maximum length of \"Text\" and \"Entity\" values\n",
    "max_text_length = max(len(item[\"text\"]) for item in data)\n",
    "max_entity_length = max(len(item[\"type\"]) for item in data)\n",
    "\n",
    "# Header row\n",
    "header = f\"{'Text':<{max_text_length}} | {'Type':<{max_entity_length}}\"\n",
    "\n",
    "# Separator row\n",
    "separator = '-' * (max_text_length + max_entity_length + 3)\n",
    "\n",
    "# Data rows\n",
    "data_rows = [f\"{item['text']:<{max_text_length}} | {item['type']:<{max_entity_length}}\" for item in data]\n",
    "\n",
    "# Print the table\n",
    "print(header)\n",
    "print(separator)\n",
    "for row in data_rows:\n",
    "    print(row)\n"
   ]
  }
 ],
 "metadata": {
  "kernelspec": {
   "display_name": "env",
   "language": "python",
   "name": "python3"
  },
  "language_info": {
   "codemirror_mode": {
    "name": "ipython",
    "version": 3
   },
   "file_extension": ".py",
   "mimetype": "text/x-python",
   "name": "python",
   "nbconvert_exporter": "python",
   "pygments_lexer": "ipython3",
   "version": "3.10.11"
  },
  "orig_nbformat": 4
 },
 "nbformat": 4,
 "nbformat_minor": 2
}
